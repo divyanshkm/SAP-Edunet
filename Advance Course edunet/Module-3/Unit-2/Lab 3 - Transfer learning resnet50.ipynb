{
 "cells": [
  {
   "cell_type": "markdown",
   "metadata": {},
   "source": [
    "#  EDUNET FOUNDATION - Classroom Exercise Notebook"
   ]
  },
  {
   "cell_type": "markdown",
   "metadata": {},
   "source": [
    "## Lab 3 - Object Identification Using Transfer learning resnet50"
   ]
  },
  {
   "cell_type": "markdown",
   "metadata": {},
   "source": [
    "Here we are using pretrained network RESNET50, and will train the network on our own dataset.\n",
    "Preparation:-\n",
    "\n",
    "Create a dataset folder with the name you will like your dataset to be called (e.g pets)\n",
    "\n",
    "—In the dataset folder, create a folder by the name train\n",
    "\n",
    "– In the dataset folder, create a folder by the name test\n",
    "\n",
    "—In the train folder, create a folder for each object you want to the model to predict and give the folder a name that corresponds to the respective object name (e.g dog, cat, squirrel, snake)\n",
    "\n",
    "– In the test folder, create a folder for each object you want to the model to predict and give the folder a name that corresponds to the respective object name (e.g dog, cat, squirrel, snake)\n",
    "\n",
    "—In each folder present in the train folder, put the images of each object in its respective folder. This images are the ones to be used to train the model\n",
    "\n",
    "– To produce a model that can perform well in practical applications, I recommend you about 500 or more images per object. 1000 images per object is just great\n",
    "\n",
    "—In each folder present in the test folder, put about 100 to 200 images of each object in its respective folder. These images are the ones to be used to test the model as it trains\n",
    "\n",
    "Note : Performing model training on CPU will my take hours or days"
   ]
  },
  {
   "cell_type": "code",
   "execution_count": null,
   "metadata": {
    "colab": {
     "base_uri": "https://localhost:8080/"
    },
    "id": "B22lL_0f8mL7",
    "outputId": "5175ef0e-aea2-4a82-a14e-6c18ed6f4e70"
   },
   "outputs": [],
   "source": [
    "\n",
    "from imageai.Classification.Custom import ClassificationModelTrainer\n",
    "\n",
    "model_trainer = ClassificationModelTrainer()\n",
    "#The ClassificationModelTrainer class allows you to train any of the 4 \n",
    "#supported deep learning algorithms (MobileNetV2 , ResNet50 , InceptionV3 \n",
    "#and DenseNet121) on your own image dataset to generate your own custom models.#\n",
    "\n",
    "model_trainer.setModelTypeAsResNet50()\n",
    "\n",
    "#This function sets the model type of the training instance you created to \n",
    "#the ResNet50 model, which means the ResNet50 algorithm will be trained on \n",
    "#your dataset.\n",
    "\n",
    "model_trainer.setDataDirectory(r\"/content/drive/MyDrive/PetImages\")\n",
    "#This function accepts a string which must be the path to the folder that \n",
    "#contains the test and train subfolder of your image dataset.\n",
    "\n",
    "model_trainer.trainModel(num_experiments=100, batch_size=32)\n",
    "#This is the function that starts the training process. Once it starts,\n",
    "#it will create a JSON file in the dataset/json folder which contains the \n",
    "#mapping of the classes of the dataset.\n"
   ]
  },
  {
   "cell_type": "code",
   "execution_count": null,
   "metadata": {
    "id": "3AvAtjzjE_O6"
   },
   "outputs": [],
   "source": [
    "from imageai.Classification.Custom import CustomImageClassification\n",
    "import os\n",
    "\n",
    "execution_path = os.getcwd()\n",
    "\n",
    "prediction = CustomImageClassification()\n",
    "prediction.setModelTypeAsResNet50()\n",
    "#This function sets the model type of the image recognition instance you \n",
    "#created to the ResNet50 model, which means you will be performing your\n",
    "#image prediction tasks using the “ResNet” model model generated during your\n",
    "#custom training. \n",
    "\n",
    "prediction.setModelPath(os.path.join(execution_path, \"/content/drive/MyDrive/PetImages/models/resnet50-PetImages-test_acc_0.55869_epoch-4.pt\"))\n",
    "#This function accepts a string which must be the path to the model file \n",
    "#generated during your custom training and must corresponds to the model\n",
    "#type you set for your image prediction instance. \n",
    "\n",
    "prediction.setJsonPath(os.path.join(execution_path, \"/content/drive/MyDrive/PetImages/models/PetImages_model_classes.json\"))\n",
    "#This function accepts a string which must be the path to the JSON file\n",
    "#generated during your custom training.\n",
    "\n",
    "prediction.loadModel()\n",
    "#This function loads the model from the path you specified in the function\n",
    "#call above into your image prediction instance. You will have to set the\n",
    "#parameter num_objects to the number of classes in your image dataset.\n",
    "\n",
    "predictions, probabilities = prediction.classifyImage(\"/content/drive/MyDrive/PetImages/test/dog/dog-test-images/9364.jpg\", result_count=2)\n",
    "#This is the function that performs actual prediction of an image.\n",
    "#It can be called many times on many images once the model as been \n",
    "#loaded into your prediction instance."
   ]
  },
  {
   "cell_type": "code",
   "execution_count": null,
   "metadata": {
    "colab": {
     "base_uri": "https://localhost:8080/"
    },
    "id": "mgxQ9qLdcIzR",
    "outputId": "b3f401fb-121d-48cf-b3e4-3c4fd5c39211"
   },
   "outputs": [],
   "source": [
    "print(predictions, probabilities)"
   ]
  },
  {
   "cell_type": "code",
   "execution_count": null,
   "metadata": {
    "id": "ufTZpyrIc5H3"
   },
   "outputs": [],
   "source": []
  }
 ],
 "metadata": {
  "accelerator": "GPU",
  "colab": {
   "gpuType": "T4",
   "provenance": []
  },
  "kernelspec": {
   "display_name": "Python 3 (ipykernel)",
   "language": "python",
   "name": "python3"
  },
  "language_info": {
   "codemirror_mode": {
    "name": "ipython",
    "version": 3
   },
   "file_extension": ".py",
   "mimetype": "text/x-python",
   "name": "python",
   "nbconvert_exporter": "python",
   "pygments_lexer": "ipython3",
   "version": "3.11.4"
  }
 },
 "nbformat": 4,
 "nbformat_minor": 1
}
