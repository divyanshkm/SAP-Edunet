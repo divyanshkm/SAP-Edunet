{
 "cells": [
  {
   "cell_type": "markdown",
   "id": "d82360ae",
   "metadata": {},
   "source": [
    "# EDUNET FOUNDATION-Class Exercise Notebook"
   ]
  },
  {
   "cell_type": "markdown",
   "id": "9c5c05d0",
   "metadata": {},
   "source": [
    "## LAB 5 - Number plate detection system"
   ]
  },
  {
   "cell_type": "markdown",
   "id": "ef8662ad",
   "metadata": {},
   "source": [
    "### Load OpenCV & Numpy library"
   ]
  },
  {
   "cell_type": "code",
   "execution_count": null,
   "id": "9681a376",
   "metadata": {},
   "outputs": [],
   "source": [
    "import cv2\n",
    "import numpy as np\n"
   ]
  },
  {
   "cell_type": "markdown",
   "id": "d598f79f",
   "metadata": {},
   "source": [
    "### Configure cascade classifier"
   ]
  },
  {
   "cell_type": "code",
   "execution_count": null,
   "id": "fa97362d",
   "metadata": {},
   "outputs": [],
   "source": [
    "np_cascade=cv2.CascadeClassifier('np.xml')"
   ]
  },
  {
   "cell_type": "markdown",
   "id": "a120146d",
   "metadata": {},
   "source": [
    "### To capture video from webcam. "
   ]
  },
  {
   "cell_type": "code",
   "execution_count": null,
   "id": "bb56a634",
   "metadata": {},
   "outputs": [],
   "source": [
    "cap = cv2.VideoCapture(0)"
   ]
  },
  {
   "cell_type": "markdown",
   "id": "492401c8",
   "metadata": {},
   "source": [
    "### Continual loop to detect number plates"
   ]
  },
  {
   "cell_type": "code",
   "execution_count": null,
   "id": "eed36ee1",
   "metadata": {},
   "outputs": [],
   "source": [
    "while True:\n",
    "    _,img = cap.read()\n",
    "    gray = cv2.cvtColor(img, cv2.COLOR_BGR2GRAY)\n",
    "    faces = np_cascade.detectMultiScale(gray, 1.1, 4)\n",
    "    for (x, y, w, h) in faces:\n",
    "        cv2.rectangle(img, (x, y), (x+w, y+h), (0, 0, 255), 2)\n",
    "    cv2.imshow('img', img)\n",
    "    k = cv2.waitKey(300) & 0xff\n",
    "    if k==27:\n",
    "        break"
   ]
  },
  {
   "cell_type": "markdown",
   "id": "4141db95",
   "metadata": {},
   "source": [
    "### Release the VideoCapture object"
   ]
  },
  {
   "cell_type": "code",
   "execution_count": null,
   "id": "7c121394",
   "metadata": {},
   "outputs": [],
   "source": [
    "cv2.destroyAllWindows()\n",
    "\n",
    "cap.release()"
   ]
  }
 ],
 "metadata": {
  "kernelspec": {
   "display_name": "Python 3 (ipykernel)",
   "language": "python",
   "name": "python3"
  },
  "language_info": {
   "codemirror_mode": {
    "name": "ipython",
    "version": 3
   },
   "file_extension": ".py",
   "mimetype": "text/x-python",
   "name": "python",
   "nbconvert_exporter": "python",
   "pygments_lexer": "ipython3",
   "version": "3.10.9"
  }
 },
 "nbformat": 4,
 "nbformat_minor": 5
}
