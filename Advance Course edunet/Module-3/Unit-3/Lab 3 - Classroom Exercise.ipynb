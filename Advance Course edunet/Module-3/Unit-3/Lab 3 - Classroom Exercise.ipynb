{
 "cells": [
  {
   "cell_type": "markdown",
   "id": "d82360ae",
   "metadata": {},
   "source": [
    "# EDUNET FOUNDATION-Class Exercise Notebook"
   ]
  },
  {
   "cell_type": "markdown",
   "id": "9c5c05d0",
   "metadata": {},
   "source": [
    "## LAB 3 - Canny Edge detection on a given image"
   ]
  },
  {
   "cell_type": "markdown",
   "id": "ef8662ad",
   "metadata": {},
   "source": [
    "### Load OpenCV library"
   ]
  },
  {
   "cell_type": "code",
   "execution_count": 1,
   "id": "9681a376",
   "metadata": {},
   "outputs": [],
   "source": [
    "import cv2\n"
   ]
  },
  {
   "cell_type": "markdown",
   "id": "06cf515a",
   "metadata": {},
   "source": [
    "### Read the image"
   ]
  },
  {
   "cell_type": "code",
   "execution_count": 2,
   "id": "1c3bb6ee",
   "metadata": {},
   "outputs": [],
   "source": [
    "img = cv2.imread('demo_face.jpg')"
   ]
  },
  {
   "cell_type": "markdown",
   "id": "f527b60b",
   "metadata": {},
   "source": [
    "### Setting parameter values\n"
   ]
  },
  {
   "cell_type": "code",
   "execution_count": 3,
   "id": "af6cd09e",
   "metadata": {},
   "outputs": [],
   "source": [
    "\n",
    "t_lower = 50  # Lower Threshold\n",
    "t_upper = 150  # Upper threshold"
   ]
  },
  {
   "cell_type": "markdown",
   "id": "9bbd6603",
   "metadata": {},
   "source": [
    "### Applying the Canny Edge filter\n"
   ]
  },
  {
   "cell_type": "code",
   "execution_count": 4,
   "id": "3bf6a13b",
   "metadata": {},
   "outputs": [],
   "source": [
    "\n",
    "edge = cv2.Canny(img, t_lower, t_upper)"
   ]
  },
  {
   "cell_type": "markdown",
   "id": "82599af4",
   "metadata": {},
   "source": [
    "### Show original and edges image"
   ]
  },
  {
   "cell_type": "code",
   "execution_count": 5,
   "id": "16246324",
   "metadata": {},
   "outputs": [],
   "source": [
    "cv2.imshow('original', img)\n",
    "cv2.imshow('edge', edge)"
   ]
  },
  {
   "cell_type": "markdown",
   "id": "a0d3c203",
   "metadata": {},
   "source": [
    "### Release the Window object"
   ]
  },
  {
   "cell_type": "code",
   "execution_count": null,
   "id": "b331534c",
   "metadata": {},
   "outputs": [],
   "source": [
    "cv2.waitKey(0)\n",
    "cv2.destroyAllWindows()"
   ]
  },
  {
   "cell_type": "code",
   "execution_count": null,
   "id": "d52f50f5",
   "metadata": {},
   "outputs": [],
   "source": []
  }
 ],
 "metadata": {
  "kernelspec": {
   "display_name": "Python 3 (ipykernel)",
   "language": "python",
   "name": "python3"
  },
  "language_info": {
   "codemirror_mode": {
    "name": "ipython",
    "version": 3
   },
   "file_extension": ".py",
   "mimetype": "text/x-python",
   "name": "python",
   "nbconvert_exporter": "python",
   "pygments_lexer": "ipython3",
   "version": "3.10.9"
  }
 },
 "nbformat": 4,
 "nbformat_minor": 5
}
