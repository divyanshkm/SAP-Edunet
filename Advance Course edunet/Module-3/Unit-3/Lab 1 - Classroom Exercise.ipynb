{
 "cells": [
  {
   "cell_type": "markdown",
   "id": "d82360ae",
   "metadata": {},
   "source": [
    "# EDUNET FOUNDATION-Class Exercise Notebook"
   ]
  },
  {
   "cell_type": "markdown",
   "id": "9c5c05d0",
   "metadata": {},
   "source": [
    "## LAB 1 - Detect faces present in a given image"
   ]
  },
  {
   "cell_type": "markdown",
   "id": "ef8662ad",
   "metadata": {},
   "source": [
    "### Load OpenCV library"
   ]
  },
  {
   "cell_type": "code",
   "execution_count": 1,
   "id": "9681a376",
   "metadata": {},
   "outputs": [],
   "source": [
    "import cv2\n"
   ]
  },
  {
   "cell_type": "markdown",
   "id": "88d80196",
   "metadata": {},
   "source": [
    "### Load the cascade\n"
   ]
  },
  {
   "cell_type": "code",
   "execution_count": 2,
   "id": "fca015a3",
   "metadata": {},
   "outputs": [],
   "source": [
    "face_cascade = cv2.CascadeClassifier('haarcascade_frontalface_default.xml')\n"
   ]
  },
  {
   "cell_type": "markdown",
   "id": "06cf515a",
   "metadata": {},
   "source": [
    "### Read the image"
   ]
  },
  {
   "cell_type": "code",
   "execution_count": 3,
   "id": "1c3bb6ee",
   "metadata": {},
   "outputs": [],
   "source": [
    "img = cv2.imread('demo_face.jpg')"
   ]
  },
  {
   "cell_type": "markdown",
   "id": "f527b60b",
   "metadata": {},
   "source": [
    "### Convert to grayscale\n"
   ]
  },
  {
   "cell_type": "code",
   "execution_count": 4,
   "id": "af6cd09e",
   "metadata": {},
   "outputs": [],
   "source": [
    "gray = cv2.cvtColor(img, cv2.COLOR_BGR2GRAY)"
   ]
  },
  {
   "cell_type": "markdown",
   "id": "9bbd6603",
   "metadata": {},
   "source": [
    "### Detect the faces\n"
   ]
  },
  {
   "cell_type": "code",
   "execution_count": 5,
   "id": "3bf6a13b",
   "metadata": {},
   "outputs": [],
   "source": [
    "faces = face_cascade.detectMultiScale(gray, 1.1, 4)"
   ]
  },
  {
   "cell_type": "markdown",
   "id": "2de86137",
   "metadata": {},
   "source": [
    "### Draw the rectangle around each face\n"
   ]
  },
  {
   "cell_type": "code",
   "execution_count": 6,
   "id": "196ff29c",
   "metadata": {},
   "outputs": [],
   "source": [
    "for (x, y, w, h) in faces:\n",
    "    cv2.rectangle(img, (x, y), (x+w, y+h), (0, 0, 255), 2)"
   ]
  },
  {
   "cell_type": "markdown",
   "id": "82599af4",
   "metadata": {},
   "source": [
    "### Show original image"
   ]
  },
  {
   "cell_type": "code",
   "execution_count": 7,
   "id": "16246324",
   "metadata": {},
   "outputs": [],
   "source": [
    "cv2.imshow('img', img)\n"
   ]
  },
  {
   "cell_type": "code",
   "execution_count": 8,
   "id": "b331534c",
   "metadata": {},
   "outputs": [],
   "source": [
    "cv2.waitKey(0)\n",
    "cv2.destroyAllWindows()"
   ]
  },
  {
   "cell_type": "code",
   "execution_count": null,
   "id": "d52f50f5",
   "metadata": {},
   "outputs": [],
   "source": []
  }
 ],
 "metadata": {
  "kernelspec": {
   "display_name": "Python 3 (ipykernel)",
   "language": "python",
   "name": "python3"
  },
  "language_info": {
   "codemirror_mode": {
    "name": "ipython",
    "version": 3
   },
   "file_extension": ".py",
   "mimetype": "text/x-python",
   "name": "python",
   "nbconvert_exporter": "python",
   "pygments_lexer": "ipython3",
   "version": "3.10.9"
  }
 },
 "nbformat": 4,
 "nbformat_minor": 5
}
