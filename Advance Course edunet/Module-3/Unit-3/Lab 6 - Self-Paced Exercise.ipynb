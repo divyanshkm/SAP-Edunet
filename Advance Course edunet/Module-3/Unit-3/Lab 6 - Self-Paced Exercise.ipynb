{
 "cells": [
  {
   "cell_type": "markdown",
   "id": "6360a5d2",
   "metadata": {},
   "source": [
    "# EDUNET FOUNDATION- Self-Paced Exercise"
   ]
  },
  {
   "cell_type": "markdown",
   "id": "617a6372",
   "metadata": {},
   "source": [
    "## LAB 6\n",
    "## Problem Statement"
   ]
  },
  {
   "cell_type": "markdown",
   "id": "8f73a0c2",
   "metadata": {},
   "source": [
    "### For the below given filter to extract horizontal edges. Convert given filter to a usable .xml format and also test generated file"
   ]
  },
  {
   "cell_type": "code",
   "execution_count": 3,
   "id": "43b41a10",
   "metadata": {},
   "outputs": [
    {
     "data": {
      "text/plain": [
       "array([[-1., -2., -1.],\n",
       "       [-2.,  0.,  2.],\n",
       "       [ 1.,  2.,  1.]], dtype=float32)"
      ]
     },
     "execution_count": 3,
     "metadata": {},
     "output_type": "execute_result"
    }
   ],
   "source": [
    "import numpy as np\n",
    "np.array([[-1, -2, -1],\n",
    "          [-2, 0, +2],\n",
    "          [+1, +2, +1]], dtype=np.float32)"
   ]
  },
  {
   "cell_type": "code",
   "execution_count": null,
   "id": "5fa8c6d1",
   "metadata": {},
   "outputs": [],
   "source": []
  },
  {
   "cell_type": "code",
   "execution_count": null,
   "id": "b3ea6283",
   "metadata": {},
   "outputs": [],
   "source": []
  }
 ],
 "metadata": {
  "kernelspec": {
   "display_name": "Python 3 (ipykernel)",
   "language": "python",
   "name": "python3"
  },
  "language_info": {
   "codemirror_mode": {
    "name": "ipython",
    "version": 3
   },
   "file_extension": ".py",
   "mimetype": "text/x-python",
   "name": "python",
   "nbconvert_exporter": "python",
   "pygments_lexer": "ipython3",
   "version": "3.10.9"
  }
 },
 "nbformat": 4,
 "nbformat_minor": 5
}
