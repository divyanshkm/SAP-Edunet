{
 "cells": [
  {
   "cell_type": "markdown",
   "id": "8ef5522b",
   "metadata": {},
   "source": [
    "# EDUNET FOUNDATION- Self-Paced Solution"
   ]
  },
  {
   "cell_type": "markdown",
   "id": "28549a95",
   "metadata": {},
   "source": [
    "## Lab 1 : Face Detection on Live Video Stream\n",
    "## Problem Statement"
   ]
  },
  {
   "cell_type": "markdown",
   "id": "c56e05f0",
   "metadata": {},
   "source": [
    "### Connect a video capture device to your laptop or computer. \n",
    "### You need to implement a face detection system that will capture from live camera stream and displays output in a seperate window. Follow guidelines discussed in classrom exercise"
   ]
  },
  {
   "cell_type": "markdown",
   "id": "1c0190c1",
   "metadata": {},
   "source": [
    "### Importing warning package to ignore the warnings¶"
   ]
  },
  {
   "cell_type": "code",
   "execution_count": 1,
   "id": "15f0afb1",
   "metadata": {},
   "outputs": [],
   "source": [
    "import warnings\n",
    "warnings.filterwarnings(\"ignore\")\n",
    "warnings.simplefilter(action='ignore', category=FutureWarning)"
   ]
  },
  {
   "cell_type": "markdown",
   "id": "47389215",
   "metadata": {},
   "source": [
    "### Load required libraries "
   ]
  },
  {
   "cell_type": "code",
   "execution_count": 2,
   "id": "e5a0acf3",
   "metadata": {},
   "outputs": [],
   "source": [
    "import cv2"
   ]
  },
  {
   "cell_type": "markdown",
   "id": "ff9013b7",
   "metadata": {},
   "source": [
    "### Load the cascade"
   ]
  },
  {
   "cell_type": "code",
   "execution_count": 3,
   "id": "249c0fed",
   "metadata": {},
   "outputs": [],
   "source": [
    "\n",
    "face_cascade = cv2.CascadeClassifier('haarcascade_frontalface_default.xml')"
   ]
  },
  {
   "cell_type": "markdown",
   "id": "5f7569d1",
   "metadata": {},
   "source": [
    "### To use a video file as input "
   ]
  },
  {
   "cell_type": "code",
   "execution_count": 4,
   "id": "36122c26",
   "metadata": {},
   "outputs": [],
   "source": [
    "\n",
    "cap = cv2.VideoCapture(0)"
   ]
  },
  {
   "cell_type": "markdown",
   "id": "2579cae6",
   "metadata": {},
   "source": [
    "### Continual loop with face detection task"
   ]
  },
  {
   "cell_type": "code",
   "execution_count": 4,
   "id": "bbf0969a",
   "metadata": {},
   "outputs": [],
   "source": [
    "while True:\n",
    "\n",
    "    _,img = cap.read()\n",
    "    gray = cv2.cvtColor(img, cv2.COLOR_BGR2GRAY)\n",
    "    faces = face_cascade.detectMultiScale(gray, 1.1, 4)\n",
    "    for (x, y, w, h) in faces:\n",
    "        cv2.rectangle(img, (x, y), (x+w, y+h), (0, 0, 255), 2)\n",
    "    cv2.imshow('img', img)\n",
    "    k = cv2.waitKey(300) & 0xff\n",
    "    if k==27:\n",
    "        break"
   ]
  },
  {
   "cell_type": "markdown",
   "id": "7104b430",
   "metadata": {},
   "source": [
    "### Release the VideoCapture object\n"
   ]
  },
  {
   "cell_type": "code",
   "execution_count": null,
   "id": "4d76b901",
   "metadata": {},
   "outputs": [],
   "source": [
    "cv2.destroyAllWindows()\n",
    "cap.release()"
   ]
  },
  {
   "cell_type": "code",
   "execution_count": null,
   "id": "dcadaae0",
   "metadata": {},
   "outputs": [],
   "source": []
  }
 ],
 "metadata": {
  "kernelspec": {
   "display_name": "Python 3 (ipykernel)",
   "language": "python",
   "name": "python3"
  },
  "language_info": {
   "codemirror_mode": {
    "name": "ipython",
    "version": 3
   },
   "file_extension": ".py",
   "mimetype": "text/x-python",
   "name": "python",
   "nbconvert_exporter": "python",
   "pygments_lexer": "ipython3",
   "version": "3.10.9"
  }
 },
 "nbformat": 4,
 "nbformat_minor": 5
}
