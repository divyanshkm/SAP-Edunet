{
 "cells": [
  {
   "cell_type": "markdown",
   "id": "01bf440b",
   "metadata": {},
   "source": [
    "# EDUNET FOUNDATION- Self-Paced Exercise"
   ]
  },
  {
   "cell_type": "markdown",
   "id": "a89cdc9f",
   "metadata": {},
   "source": [
    "## Lab 4 \n",
    "## Problem Statement"
   ]
  },
  {
   "cell_type": "markdown",
   "id": "41f8502d",
   "metadata": {},
   "source": [
    "### Use below matrix as kernel for convolution. \n",
    "#### kernel = [ [-7, 0, 7],  [-7, 0, 7], [-7, 0, 7] ]\n",
    "\n",
    "\n",
    "### You need to implement a filter based edge detection system "
   ]
  },
  {
   "cell_type": "code",
   "execution_count": null,
   "id": "88197c4e",
   "metadata": {},
   "outputs": [],
   "source": []
  }
 ],
 "metadata": {
  "kernelspec": {
   "display_name": "Python 3 (ipykernel)",
   "language": "python",
   "name": "python3"
  },
  "language_info": {
   "codemirror_mode": {
    "name": "ipython",
    "version": 3
   },
   "file_extension": ".py",
   "mimetype": "text/x-python",
   "name": "python",
   "nbconvert_exporter": "python",
   "pygments_lexer": "ipython3",
   "version": "3.10.9"
  }
 },
 "nbformat": 4,
 "nbformat_minor": 5
}
