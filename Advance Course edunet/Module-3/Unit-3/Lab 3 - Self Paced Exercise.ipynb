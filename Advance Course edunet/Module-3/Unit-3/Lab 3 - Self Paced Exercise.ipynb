{
 "cells": [
  {
   "cell_type": "markdown",
   "id": "01bf440b",
   "metadata": {},
   "source": [
    "# EDUNET FOUNDATION- Self-Paced Exercise"
   ]
  },
  {
   "cell_type": "markdown",
   "id": "a89cdc9f",
   "metadata": {},
   "source": [
    "## Lab 3\n",
    "## Problem Statement"
   ]
  },
  {
   "cell_type": "markdown",
   "id": "41f8502d",
   "metadata": {},
   "source": [
    "### Connect a video capture device to your laptop or computer. \n",
    "### You need to implement a canny edge detection system that will capture from live camera stream and displays output in a seperate window. Follow guidelines discussed in classrom exercise"
   ]
  },
  {
   "cell_type": "code",
   "execution_count": null,
   "id": "88197c4e",
   "metadata": {},
   "outputs": [],
   "source": []
  }
 ],
 "metadata": {
  "kernelspec": {
   "display_name": "Python 3 (ipykernel)",
   "language": "python",
   "name": "python3"
  },
  "language_info": {
   "codemirror_mode": {
    "name": "ipython",
    "version": 3
   },
   "file_extension": ".py",
   "mimetype": "text/x-python",
   "name": "python",
   "nbconvert_exporter": "python",
   "pygments_lexer": "ipython3",
   "version": "3.10.9"
  }
 },
 "nbformat": 4,
 "nbformat_minor": 5
}
