{
 "cells": [
  {
   "cell_type": "markdown",
   "id": "6360a5d2",
   "metadata": {},
   "source": [
    "# EDUNET FOUNDATION-Class Exercise Notebook"
   ]
  },
  {
   "cell_type": "markdown",
   "id": "617a6372",
   "metadata": {},
   "source": [
    "## LAB 6 - Generating & Handling the .xml files"
   ]
  },
  {
   "cell_type": "markdown",
   "id": "8f73a0c2",
   "metadata": {},
   "source": [
    "### Load OpenCV & Numpy library"
   ]
  },
  {
   "cell_type": "code",
   "execution_count": 1,
   "id": "036fc94a",
   "metadata": {},
   "outputs": [],
   "source": [
    "import cv2\n",
    "import numpy as np"
   ]
  },
  {
   "cell_type": "markdown",
   "id": "6fb53989",
   "metadata": {},
   "source": [
    "### Create a new filter"
   ]
  },
  {
   "cell_type": "code",
   "execution_count": 2,
   "id": "d52c8fed",
   "metadata": {},
   "outputs": [],
   "source": [
    "filter_kernel = np.array([[-1, 0, +1],\n",
    "                          [-2, 0, +2],\n",
    "                          [-1, 0, +1]], dtype=np.float32)"
   ]
  },
  {
   "cell_type": "markdown",
   "id": "d7db394c",
   "metadata": {},
   "source": [
    "### Save the filter to an XML file"
   ]
  },
  {
   "cell_type": "code",
   "execution_count": 5,
   "id": "8e872228",
   "metadata": {},
   "outputs": [],
   "source": [
    "cv2.FileStorage(\"filter.xml\", cv2.FILE_STORAGE_WRITE).write(\"filter\", filter_kernel)"
   ]
  },
  {
   "cell_type": "code",
   "execution_count": null,
   "id": "bf9a07a8",
   "metadata": {},
   "outputs": [],
   "source": []
  },
  {
   "cell_type": "markdown",
   "id": "9a59b5e8",
   "metadata": {},
   "source": [
    "### Now lets use the created .xml file"
   ]
  },
  {
   "cell_type": "markdown",
   "id": "cc2941a2",
   "metadata": {},
   "source": [
    "### Load the filter from the XML file"
   ]
  },
  {
   "cell_type": "code",
   "execution_count": 6,
   "id": "756c033e",
   "metadata": {},
   "outputs": [],
   "source": [
    "file_storage = cv2.FileStorage(\"filter.xml\", cv2.FILE_STORAGE_READ)\n",
    "filter_kernel = file_storage.getNode(\"filter\").mat()\n"
   ]
  },
  {
   "cell_type": "markdown",
   "id": "578876fd",
   "metadata": {},
   "source": [
    "### Load an image"
   ]
  },
  {
   "cell_type": "code",
   "execution_count": 7,
   "id": "7c81bb1c",
   "metadata": {},
   "outputs": [],
   "source": [
    "image = cv2.imread(\"test_image.jpg\")\n"
   ]
  },
  {
   "cell_type": "markdown",
   "id": "0dc8a3e4",
   "metadata": {},
   "source": [
    "### Apply the filter to the image"
   ]
  },
  {
   "cell_type": "code",
   "execution_count": 8,
   "id": "58e2f092",
   "metadata": {},
   "outputs": [],
   "source": [
    "filtered_image = cv2.filter2D(image, -1, filter_kernel)"
   ]
  },
  {
   "cell_type": "markdown",
   "id": "dc6c6741",
   "metadata": {},
   "source": [
    "### Display the original and filtered images"
   ]
  },
  {
   "cell_type": "code",
   "execution_count": 9,
   "id": "83d25a91",
   "metadata": {},
   "outputs": [],
   "source": [
    "\n",
    "cv2.imshow(\"Original Image\", image)\n",
    "cv2.imshow(\"Filtered Image\", filtered_image)\n",
    "cv2.waitKey(0)\n",
    "cv2.destroyAllWindows()"
   ]
  }
 ],
 "metadata": {
  "kernelspec": {
   "display_name": "Python 3 (ipykernel)",
   "language": "python",
   "name": "python3"
  },
  "language_info": {
   "codemirror_mode": {
    "name": "ipython",
    "version": 3
   },
   "file_extension": ".py",
   "mimetype": "text/x-python",
   "name": "python",
   "nbconvert_exporter": "python",
   "pygments_lexer": "ipython3",
   "version": "3.10.9"
  }
 },
 "nbformat": 4,
 "nbformat_minor": 5
}
