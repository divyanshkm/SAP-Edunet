{
 "cells": [
  {
   "cell_type": "markdown",
   "id": "d82360ae",
   "metadata": {},
   "source": [
    "# EDUNET FOUNDATION-Class Exercise Notebook"
   ]
  },
  {
   "cell_type": "markdown",
   "id": "9c5c05d0",
   "metadata": {},
   "source": [
    "## LAB 4 - Average Kernel based blurring a given image"
   ]
  },
  {
   "cell_type": "markdown",
   "id": "ef8662ad",
   "metadata": {},
   "source": [
    "### Load OpenCV & Numpy library"
   ]
  },
  {
   "cell_type": "code",
   "execution_count": null,
   "id": "9681a376",
   "metadata": {},
   "outputs": [],
   "source": [
    "import cv2\n",
    "import numpy as np\n"
   ]
  },
  {
   "cell_type": "markdown",
   "id": "06cf515a",
   "metadata": {},
   "source": [
    "### Read the image"
   ]
  },
  {
   "cell_type": "code",
   "execution_count": null,
   "id": "1c3bb6ee",
   "metadata": {},
   "outputs": [],
   "source": [
    "img = cv2.imread('demo_face.jpg')"
   ]
  },
  {
   "cell_type": "markdown",
   "id": "f527b60b",
   "metadata": {},
   "source": [
    "### Configure blur kernel\n"
   ]
  },
  {
   "cell_type": "code",
   "execution_count": null,
   "id": "af6cd09e",
   "metadata": {},
   "outputs": [],
   "source": [
    "kernel2 = np.ones((5, 5), np.float32) / 25"
   ]
  },
  {
   "cell_type": "markdown",
   "id": "9bbd6603",
   "metadata": {},
   "source": [
    "### Applying the blur filter\n"
   ]
  },
  {
   "cell_type": "code",
   "execution_count": null,
   "id": "3bf6a13b",
   "metadata": {},
   "outputs": [],
   "source": [
    "img2 = cv2.filter2D(src=img, ddepth=-1, kernel=kernel2)"
   ]
  },
  {
   "cell_type": "markdown",
   "id": "82599af4",
   "metadata": {},
   "source": [
    "### Show original and edges image"
   ]
  },
  {
   "cell_type": "code",
   "execution_count": null,
   "id": "16246324",
   "metadata": {},
   "outputs": [],
   "source": [
    "cv2.imshow('original', img)\n",
    "cv2.imshow('edge', img2)"
   ]
  },
  {
   "cell_type": "markdown",
   "id": "a0d3c203",
   "metadata": {},
   "source": [
    "### Release the Window object"
   ]
  },
  {
   "cell_type": "code",
   "execution_count": null,
   "id": "b331534c",
   "metadata": {},
   "outputs": [],
   "source": [
    "cv2.waitKey(0)\n",
    "cv2.destroyAllWindows()"
   ]
  },
  {
   "cell_type": "code",
   "execution_count": null,
   "id": "d52f50f5",
   "metadata": {},
   "outputs": [],
   "source": []
  },
  {
   "cell_type": "code",
   "execution_count": null,
   "id": "e9231f25",
   "metadata": {},
   "outputs": [],
   "source": []
  }
 ],
 "metadata": {
  "kernelspec": {
   "display_name": "Python 3 (ipykernel)",
   "language": "python",
   "name": "python3"
  },
  "language_info": {
   "codemirror_mode": {
    "name": "ipython",
    "version": 3
   },
   "file_extension": ".py",
   "mimetype": "text/x-python",
   "name": "python",
   "nbconvert_exporter": "python",
   "pygments_lexer": "ipython3",
   "version": "3.10.9"
  }
 },
 "nbformat": 4,
 "nbformat_minor": 5
}
