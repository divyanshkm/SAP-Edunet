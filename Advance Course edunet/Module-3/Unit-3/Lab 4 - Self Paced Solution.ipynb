{
 "cells": [
  {
   "cell_type": "markdown",
   "id": "8ef5522b",
   "metadata": {},
   "source": [
    "# EDUNET FOUNDATION- Self-Paced Solution"
   ]
  },
  {
   "cell_type": "markdown",
   "id": "28549a95",
   "metadata": {},
   "source": [
    "## Lab 4 : Edge Detection Using Prewitt Operator \n",
    "## Problem Statement"
   ]
  },
  {
   "cell_type": "markdown",
   "id": "c56e05f0",
   "metadata": {},
   "source": [
    "### Use below matrix as kernel for convolution. \n",
    "#### kernel = [ [-7, 0, 7],  [-7, 0, 7], [-7, 0, 7] ]\n",
    "\n",
    "\n",
    "### You need to implement a filter based edge detection system "
   ]
  },
  {
   "cell_type": "markdown",
   "id": "1c0190c1",
   "metadata": {},
   "source": [
    "### Importing warning package to ignore the warnings¶"
   ]
  },
  {
   "cell_type": "code",
   "execution_count": 1,
   "id": "15f0afb1",
   "metadata": {},
   "outputs": [],
   "source": [
    "import warnings\n",
    "warnings.filterwarnings(\"ignore\")\n",
    "warnings.simplefilter(action='ignore', category=FutureWarning)"
   ]
  },
  {
   "cell_type": "markdown",
   "id": "47389215",
   "metadata": {},
   "source": [
    "### Load required libraries "
   ]
  },
  {
   "cell_type": "code",
   "execution_count": 2,
   "id": "e5a0acf3",
   "metadata": {},
   "outputs": [],
   "source": [
    "import cv2\n",
    "import numpy as np\n"
   ]
  },
  {
   "cell_type": "markdown",
   "id": "5f7569d1",
   "metadata": {},
   "source": [
    "### Read input image"
   ]
  },
  {
   "cell_type": "code",
   "execution_count": 3,
   "id": "36122c26",
   "metadata": {},
   "outputs": [],
   "source": [
    "\n",
    "img = cv2.imread('demo_face.jpg')"
   ]
  },
  {
   "cell_type": "markdown",
   "id": "f5818742",
   "metadata": {},
   "source": [
    "### Configure Prewitt kernel\n"
   ]
  },
  {
   "cell_type": "code",
   "execution_count": 4,
   "id": "9eaac72e",
   "metadata": {},
   "outputs": [],
   "source": [
    "kernel1 = np.array([[-7, 0, 7],\n",
    "                    [-7, 0, 7],\n",
    "                    [-7, 0, 7]])\n"
   ]
  },
  {
   "cell_type": "markdown",
   "id": "3d3f720b",
   "metadata": {},
   "source": [
    "### Applying the blur filter\n"
   ]
  },
  {
   "cell_type": "code",
   "execution_count": 5,
   "id": "27fa7ae0",
   "metadata": {},
   "outputs": [],
   "source": [
    "img2 = cv2.filter2D(src=img, ddepth=-1, kernel=kernel1)"
   ]
  },
  {
   "cell_type": "markdown",
   "id": "bd53e7bc",
   "metadata": {},
   "source": [
    "### Show original and edges image"
   ]
  },
  {
   "cell_type": "code",
   "execution_count": 6,
   "id": "7ac548a3",
   "metadata": {},
   "outputs": [],
   "source": [
    "cv2.imshow('original', img)\n",
    "cv2.imshow('edge', img2)"
   ]
  },
  {
   "cell_type": "markdown",
   "id": "84cd2691",
   "metadata": {},
   "source": [
    "### Release the Window object"
   ]
  },
  {
   "cell_type": "code",
   "execution_count": null,
   "id": "f4f79d97",
   "metadata": {},
   "outputs": [],
   "source": [
    "cv2.waitKey(0)\n",
    "cv2.destroyAllWindows()"
   ]
  },
  {
   "cell_type": "code",
   "execution_count": null,
   "id": "9b7dd084",
   "metadata": {},
   "outputs": [],
   "source": []
  }
 ],
 "metadata": {
  "kernelspec": {
   "display_name": "Python 3 (ipykernel)",
   "language": "python",
   "name": "python3"
  },
  "language_info": {
   "codemirror_mode": {
    "name": "ipython",
    "version": 3
   },
   "file_extension": ".py",
   "mimetype": "text/x-python",
   "name": "python",
   "nbconvert_exporter": "python",
   "pygments_lexer": "ipython3",
   "version": "3.10.9"
  }
 },
 "nbformat": 4,
 "nbformat_minor": 5
}
