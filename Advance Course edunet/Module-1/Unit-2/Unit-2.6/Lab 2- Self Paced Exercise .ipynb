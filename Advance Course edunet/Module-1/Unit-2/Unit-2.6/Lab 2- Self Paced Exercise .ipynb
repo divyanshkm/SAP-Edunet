{
 "cells": [
  {
   "cell_type": "markdown",
   "id": "475f5ef9",
   "metadata": {},
   "source": [
    "# EDUNET FOUNDATION- Self-Paced Exercise"
   ]
  },
  {
   "cell_type": "markdown",
   "id": "faeaeb75",
   "metadata": {},
   "source": [
    "## Lab 2\n",
    "## Problem Statement"
   ]
  },
  {
   "cell_type": "markdown",
   "id": "16997503",
   "metadata": {},
   "source": [
    "### California Housing dataset provides information on California's housing districts. This dataset can be fetched from internet using scikit-learn. This dataset have total 8 attributes and have total instances 20640.The target variable is the median house value for California districts, expressed in hundreds of thousands of dollars ($100,000).\n",
    "### Your task is to predict housing price using XG boost."
   ]
  }
 ],
 "metadata": {
  "kernelspec": {
   "display_name": "Python 3",
   "language": "python",
   "name": "python3"
  },
  "language_info": {
   "codemirror_mode": {
    "name": "ipython",
    "version": 3
   },
   "file_extension": ".py",
   "mimetype": "text/x-python",
   "name": "python",
   "nbconvert_exporter": "python",
   "pygments_lexer": "ipython3",
   "version": "3.8.8"
  }
 },
 "nbformat": 4,
 "nbformat_minor": 5
}
