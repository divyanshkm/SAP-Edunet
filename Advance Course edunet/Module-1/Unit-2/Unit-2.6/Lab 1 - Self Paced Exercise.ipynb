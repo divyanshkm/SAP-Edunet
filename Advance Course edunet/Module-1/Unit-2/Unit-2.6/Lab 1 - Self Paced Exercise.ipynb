{
 "cells": [
  {
   "cell_type": "markdown",
   "id": "475f5ef9",
   "metadata": {},
   "source": [
    "# EDUNET FOUNDATION- Self-Paced Exercise"
   ]
  },
  {
   "cell_type": "markdown",
   "id": "faeaeb75",
   "metadata": {},
   "source": [
    "## Lab 1\n",
    "## Problem Statement"
   ]
  },
  {
   "cell_type": "markdown",
   "id": "16997503",
   "metadata": {},
   "source": [
    "### Sklearn comes with inbuilt digits dataset. The digits dataset consists of 8x8 pixel images of digits. The images attribute of the dataset stores 8x8 arrays of grayscale values for each image.  Students can download inbuilt dataset and they have to recognize images of hand-written digits, from 0-9 using Random Forest Algorithm."
   ]
  }
 ],
 "metadata": {
  "kernelspec": {
   "display_name": "Python 3",
   "language": "python",
   "name": "python3"
  },
  "language_info": {
   "codemirror_mode": {
    "name": "ipython",
    "version": 3
   },
   "file_extension": ".py",
   "mimetype": "text/x-python",
   "name": "python",
   "nbconvert_exporter": "python",
   "pygments_lexer": "ipython3",
   "version": "3.8.8"
  }
 },
 "nbformat": 4,
 "nbformat_minor": 5
}
