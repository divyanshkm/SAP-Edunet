{
 "cells": [
  {
   "cell_type": "markdown",
   "id": "01bf440b",
   "metadata": {},
   "source": [
    "# EDUNET FOUNDATION- Self-Paced Exercise"
   ]
  },
  {
   "cell_type": "markdown",
   "id": "a89cdc9f",
   "metadata": {},
   "source": [
    "## Lab 1\n",
    "## Problem Statement"
   ]
  },
  {
   "cell_type": "markdown",
   "id": "41f8502d",
   "metadata": {},
   "source": [
    "### Telecom Churn (loss of customers to competition) is a problem for telecom companies because it is expensive to acquire a new customer and companies want to retain their existing customers. \n",
    "### Here is provided a customer data comprising of mobile connection and related feature of many customers, also includes whether customer churned or not? Telecom Company needs Churn prediction model, to predict in advance whether customer will churn or not?"
   ]
  },
  {
   "cell_type": "code",
   "execution_count": null,
   "id": "88197c4e",
   "metadata": {},
   "outputs": [],
   "source": []
  }
 ],
 "metadata": {
  "kernelspec": {
   "display_name": "Python 3 (ipykernel)",
   "language": "python",
   "name": "python3"
  },
  "language_info": {
   "codemirror_mode": {
    "name": "ipython",
    "version": 3
   },
   "file_extension": ".py",
   "mimetype": "text/x-python",
   "name": "python",
   "nbconvert_exporter": "python",
   "pygments_lexer": "ipython3",
   "version": "3.10.9"
  }
 },
 "nbformat": 4,
 "nbformat_minor": 5
}
