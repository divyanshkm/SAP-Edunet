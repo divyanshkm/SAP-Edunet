{
 "cells": [
  {
   "cell_type": "markdown",
   "id": "51c79f83",
   "metadata": {},
   "source": [
    "# EDUNET FOUNDATION- Self Paced Exercise Solution Notebook"
   ]
  },
  {
   "cell_type": "markdown",
   "id": "a05233af",
   "metadata": {},
   "source": [
    "# Lab - 1 Self Paced Exercise Solution\n"
   ]
  },
  {
   "cell_type": "markdown",
   "id": "92b0ae04",
   "metadata": {},
   "source": [
    "# Dataset:\n",
    "- train.csv\n",
    "- test.csv"
   ]
  },
  {
   "cell_type": "markdown",
   "id": "f7f55b4c",
   "metadata": {},
   "source": [
    "# Problem Statement \n",
    "- For the Titanic challenge we need to guess wheter the individuals from the test dataset had survived or not."
   ]
  },
  {
   "cell_type": "markdown",
   "id": "896c8e02",
   "metadata": {},
   "source": [
    "# Import necessary modules"
   ]
  },
  {
   "cell_type": "markdown",
   "id": "990d2833",
   "metadata": {},
   "source": [
    "# Loading data"
   ]
  },
  {
   "cell_type": "markdown",
   "id": "fa3f6639",
   "metadata": {},
   "source": [
    "# checking Null values"
   ]
  },
  {
   "cell_type": "markdown",
   "id": "26c1c5d4",
   "metadata": {},
   "source": [
    "# Data Pre-processing"
   ]
  },
  {
   "cell_type": "markdown",
   "id": "eff720fc",
   "metadata": {},
   "source": [
    "# label Encoding"
   ]
  },
  {
   "cell_type": "markdown",
   "id": "3138cb67",
   "metadata": {
    "collapsed": true
   },
   "source": [
    "# Delete unnecessary Columns(Features)"
   ]
  },
  {
   "cell_type": "markdown",
   "id": "b8787e23",
   "metadata": {},
   "source": [
    "# Split into training and test set"
   ]
  },
  {
   "cell_type": "markdown",
   "id": "69aa3f18",
   "metadata": {},
   "source": [
    "# scaling of X (train and test data)\n"
   ]
  },
  {
   "cell_type": "markdown",
   "id": "ecbe6da8",
   "metadata": {},
   "source": [
    "# Model selection and implimentation"
   ]
  },
  {
   "cell_type": "markdown",
   "id": "07b120b9",
   "metadata": {},
   "source": [
    "# Accuracy Check"
   ]
  }
 ],
 "metadata": {
  "kernelspec": {
   "display_name": "Python 3 (ipykernel)",
   "language": "python",
   "name": "python3"
  },
  "language_info": {
   "codemirror_mode": {
    "name": "ipython",
    "version": 3
   },
   "file_extension": ".py",
   "mimetype": "text/x-python",
   "name": "python",
   "nbconvert_exporter": "python",
   "pygments_lexer": "ipython3",
   "version": "3.9.13"
  }
 },
 "nbformat": 4,
 "nbformat_minor": 5
}
