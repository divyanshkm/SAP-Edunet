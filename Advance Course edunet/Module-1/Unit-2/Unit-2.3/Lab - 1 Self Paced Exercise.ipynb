{
 "cells": [
  {
   "cell_type": "markdown",
   "id": "51c79f83",
   "metadata": {},
   "source": [
    "# EDUNET FOUNDATION- Self Paced Exercise Notebook"
   ]
  },
  {
   "cell_type": "markdown",
   "id": "a05233af",
   "metadata": {},
   "source": [
    "# Lab - 1 Self Paced Exercise"
   ]
  },
  {
   "cell_type": "markdown",
   "id": "92b0ae04",
   "metadata": {},
   "source": [
    "# Dataset:\n",
    "Inbuild iris dataset"
   ]
  },
  {
   "cell_type": "markdown",
   "id": "f7f55b4c",
   "metadata": {},
   "source": [
    "# Problem Statement \n",
    "\n",
    "- The Iris dataset contains measurements of four features—sepal length, sepal width, petal length, and petal width—for three different species of iris flowers: Iris Setosa, Iris Versicolor, and Iris Virginica. \n",
    "- The goal of this analysis is to use the K-NN algorithm to Create feature and target variables.Split data into training and test data. Generate a k-NN model using neighbors value.Train or fit the data into the model. Predict the future."
   ]
  },
  {
   "cell_type": "markdown",
   "id": "896c8e02",
   "metadata": {},
   "source": [
    "# Import necessary modules"
   ]
  },
  {
   "cell_type": "code",
   "execution_count": null,
   "id": "9d3161de",
   "metadata": {},
   "outputs": [],
   "source": []
  },
  {
   "cell_type": "markdown",
   "id": "990d2833",
   "metadata": {},
   "source": [
    "# Loading data"
   ]
  },
  {
   "cell_type": "code",
   "execution_count": null,
   "id": "e1679679",
   "metadata": {},
   "outputs": [],
   "source": []
  },
  {
   "cell_type": "markdown",
   "id": "fa3f6639",
   "metadata": {},
   "source": [
    "# Create feature and target arrays"
   ]
  },
  {
   "cell_type": "code",
   "execution_count": null,
   "id": "df675f4b",
   "metadata": {},
   "outputs": [],
   "source": []
  },
  {
   "cell_type": "markdown",
   "id": "b8787e23",
   "metadata": {},
   "source": [
    "# Split into training and test set"
   ]
  },
  {
   "cell_type": "code",
   "execution_count": null,
   "id": "e6ce6b61",
   "metadata": {},
   "outputs": [],
   "source": []
  },
  {
   "cell_type": "markdown",
   "id": "69aa3f18",
   "metadata": {},
   "source": [
    "# Loop over K values"
   ]
  },
  {
   "cell_type": "code",
   "execution_count": null,
   "id": "0066ec6b",
   "metadata": {},
   "outputs": [],
   "source": []
  },
  {
   "cell_type": "markdown",
   "id": "ecbe6da8",
   "metadata": {},
   "source": [
    "# Compute training and test data accuracy"
   ]
  },
  {
   "cell_type": "code",
   "execution_count": null,
   "id": "d925af5b",
   "metadata": {},
   "outputs": [],
   "source": []
  },
  {
   "cell_type": "markdown",
   "id": "07b120b9",
   "metadata": {},
   "source": [
    "# Generate plot"
   ]
  },
  {
   "cell_type": "code",
   "execution_count": null,
   "id": "7c16b97e",
   "metadata": {},
   "outputs": [],
   "source": []
  }
 ],
 "metadata": {
  "kernelspec": {
   "display_name": "Python 3 (ipykernel)",
   "language": "python",
   "name": "python3"
  },
  "language_info": {
   "codemirror_mode": {
    "name": "ipython",
    "version": 3
   },
   "file_extension": ".py",
   "mimetype": "text/x-python",
   "name": "python",
   "nbconvert_exporter": "python",
   "pygments_lexer": "ipython3",
   "version": "3.9.13"
  }
 },
 "nbformat": 4,
 "nbformat_minor": 5
}
